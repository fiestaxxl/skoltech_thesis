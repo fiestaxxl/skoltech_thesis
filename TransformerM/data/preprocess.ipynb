{
 "cells": [
  {
   "cell_type": "code",
   "execution_count": 43,
   "metadata": {},
   "outputs": [],
   "source": [
    "import os\n",
    "import pandas as pd\n",
    "from rdkit import Chem"
   ]
  },
  {
   "cell_type": "code",
   "execution_count": 129,
   "metadata": {},
   "outputs": [
    {
     "data": {
      "text/plain": [
       "['AID_884_datatable_all.csv',\n",
       " 'AID_883_datatable_all.csv',\n",
       " 'AID_899_datatable_all.csv',\n",
       " 'AID_891_datatable_all.csv',\n",
       " 'AID_410_datatable_all.csv']"
      ]
     },
     "execution_count": 129,
     "metadata": {},
     "output_type": "execute_result"
    }
   ],
   "source": [
    "files = os.listdir()\n",
    "files = [file for file in files if file.endswith('.csv')]\n",
    "files"
   ]
  },
  {
   "cell_type": "code",
   "execution_count": 131,
   "metadata": {},
   "outputs": [],
   "source": [
    "def preprocess(files):\n",
    "    final_db = pd.DataFrame(columns = ['PUBCHEM_EXT_DATASOURCE_SMILES','PUBCHEM_ACTIVITY_OUTCOME','PUBCHEM_ACTIVITY_SCORE'])\n",
    "    for file in files:\n",
    "        data = pd.read_csv(file, skiprows=[1,2,3,4,5], low_memory=False)\n",
    "        data = data[['PUBCHEM_EXT_DATASOURCE_SMILES','PUBCHEM_ACTIVITY_OUTCOME','PUBCHEM_ACTIVITY_SCORE']]\n",
    "        final_db = pd.concat([final_db, data], ignore_index=True)\n",
    "    return final_db"
   ]
  },
  {
   "cell_type": "code",
   "execution_count": 132,
   "metadata": {},
   "outputs": [],
   "source": [
    "db = preprocess(files)"
   ]
  },
  {
   "cell_type": "code",
   "execution_count": 133,
   "metadata": {},
   "outputs": [],
   "source": [
    "db = db[db['PUBCHEM_EXT_DATASOURCE_SMILES'].notna()]\n",
    "db = db[db['PUBCHEM_ACTIVITY_OUTCOME']!='Inconclusive']"
   ]
  },
  {
   "cell_type": "code",
   "execution_count": 134,
   "metadata": {},
   "outputs": [],
   "source": [
    "def simple_is_organic(smiles):\n",
    "    try:\n",
    "        mol = Chem.MolFromSmiles(smiles)\n",
    "        simpleOrganicAtomQuery = Chem.MolFromSmarts('[!$([#1,#5,#6,#7,#8,#9,#15,#16,#17,#35,#53])]')\n",
    "        simpleOrganicBondQuery = Chem.MolFromSmarts('[#6]-,=,#,:[#6]')\n",
    "        hasCHQuery = Chem.MolFromSmarts('[C!H0]')\n",
    "        return (not mol.HasSubstructMatch(simpleOrganicAtomQuery)) and mol.HasSubstructMatch(hasCHQuery) and mol.HasSubstructMatch(simpleOrganicBondQuery)\n",
    "    except AttributeError:\n",
    "        return False"
   ]
  },
  {
   "cell_type": "code",
   "execution_count": 135,
   "metadata": {},
   "outputs": [],
   "source": [
    "db['is_organic'] = db['PUBCHEM_EXT_DATASOURCE_SMILES'].apply(simple_is_organic)"
   ]
  },
  {
   "cell_type": "code",
   "execution_count": 136,
   "metadata": {},
   "outputs": [
    {
     "data": {
      "text/plain": [
       "is_organic\n",
       "True     42707\n",
       "False     3390\n",
       "Name: count, dtype: int64"
      ]
     },
     "execution_count": 136,
     "metadata": {},
     "output_type": "execute_result"
    }
   ],
   "source": [
    "db['is_organic'].value_counts()"
   ]
  },
  {
   "cell_type": "code",
   "execution_count": 137,
   "metadata": {},
   "outputs": [],
   "source": [
    "db = db[db['is_organic']==True]"
   ]
  },
  {
   "cell_type": "code",
   "execution_count": 138,
   "metadata": {},
   "outputs": [
    {
     "data": {
      "text/plain": [
       "PUBCHEM_ACTIVITY_OUTCOME\n",
       "Inactive    30385\n",
       "Active      12322\n",
       "Name: count, dtype: int64"
      ]
     },
     "execution_count": 138,
     "metadata": {},
     "output_type": "execute_result"
    }
   ],
   "source": [
    "db['PUBCHEM_ACTIVITY_OUTCOME'].value_counts()"
   ]
  },
  {
   "cell_type": "code",
   "execution_count": 151,
   "metadata": {},
   "outputs": [],
   "source": [
    "db.drop_duplicates(subset='PUBCHEM_EXT_DATASOURCE_SMILES', keep=\"last\", inplace=True)"
   ]
  },
  {
   "cell_type": "code",
   "execution_count": 153,
   "metadata": {},
   "outputs": [
    {
     "data": {
      "text/plain": [
       "PUBCHEM_ACTIVITY_OUTCOME\n",
       "Inactive    6612\n",
       "Active      4923\n",
       "Name: count, dtype: int64"
      ]
     },
     "execution_count": 153,
     "metadata": {},
     "output_type": "execute_result"
    }
   ],
   "source": [
    "db['PUBCHEM_ACTIVITY_OUTCOME'].value_counts()"
   ]
  },
  {
   "cell_type": "code",
   "execution_count": 157,
   "metadata": {},
   "outputs": [],
   "source": [
    "db.to_csv('final_data.csv')"
   ]
  },
  {
   "cell_type": "code",
   "execution_count": null,
   "metadata": {},
   "outputs": [],
   "source": []
  }
 ],
 "metadata": {
  "kernelspec": {
   "display_name": "Python 3",
   "language": "python",
   "name": "python3"
  },
  "language_info": {
   "codemirror_mode": {
    "name": "ipython",
    "version": 3
   },
   "file_extension": ".py",
   "mimetype": "text/x-python",
   "name": "python",
   "nbconvert_exporter": "python",
   "pygments_lexer": "ipython3",
   "version": "3.10.12"
  }
 },
 "nbformat": 4,
 "nbformat_minor": 2
}
